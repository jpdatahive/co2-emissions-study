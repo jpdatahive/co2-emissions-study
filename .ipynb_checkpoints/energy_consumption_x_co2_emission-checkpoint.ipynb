{
 "cells": [
  {
   "cell_type": "markdown",
   "id": "d6538a67",
   "metadata": {},
   "source": [
    "# CO2 emissions per capita x Energy consumption per capita - An extensive exploratory analysis."
   ]
  },
  {
   "cell_type": "markdown",
   "id": "12a3b759",
   "metadata": {},
   "source": [
    "## 1.  Can we predict the amount of co2 emission per capita using per capita energy consumption as a feature via a linear regression model?\n",
    "\n",
    "In this analysis, we will try to predict the per capita co2 emission using per capita energy consumption as a variable, and how effective the application of this model is."
   ]
  },
  {
   "cell_type": "markdown",
   "id": "50b561e9",
   "metadata": {},
   "source": [
    "## 2. Gathering data\n",
    "\n",
    "The resources used in this exploratory analysis were taken from world bank data. You can find the links to the datasets at the end of this study."
   ]
  },
  {
   "cell_type": "code",
   "execution_count": null,
   "id": "b8c3457b",
   "metadata": {},
   "outputs": [],
   "source": []
  }
 ],
 "metadata": {
  "kernelspec": {
   "display_name": "Python 3 (ipykernel)",
   "language": "python",
   "name": "python3"
  },
  "language_info": {
   "codemirror_mode": {
    "name": "ipython",
    "version": 3
   },
   "file_extension": ".py",
   "mimetype": "text/x-python",
   "name": "python",
   "nbconvert_exporter": "python",
   "pygments_lexer": "ipython3",
   "version": "3.9.13"
  }
 },
 "nbformat": 4,
 "nbformat_minor": 5
}
